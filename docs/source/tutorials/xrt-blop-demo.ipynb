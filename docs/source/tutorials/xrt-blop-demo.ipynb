{
 "cells": [
  {
   "cell_type": "markdown",
   "id": "de866c8e",
   "metadata": {},
   "source": [
    "# XRT Blop Demo"
   ]
  },
  {
   "cell_type": "code",
   "execution_count": null,
   "id": "3e2709f7",
   "metadata": {},
   "outputs": [
    {
     "ename": "Exception",
     "evalue": "File `'prepare_re_env.__file__'` not found.",
     "output_type": "error",
     "traceback": [
      "\u001b[31m---------------------------------------------------------------------------\u001b[39m",
      "\u001b[31mOSError\u001b[39m                                   Traceback (most recent call last)",
      "\u001b[36mFile \u001b[39m\u001b[32m/opt/homebrew/anaconda3/envs/xrt-blop/lib/python3.11/site-packages/IPython/core/magics/execution.py:727\u001b[39m, in \u001b[36mExecutionMagics.run\u001b[39m\u001b[34m(self, parameter_s, runner, file_finder)\u001b[39m\n\u001b[32m    726\u001b[39m     fpath = arg_lst[\u001b[32m0\u001b[39m]\n\u001b[32m--> \u001b[39m\u001b[32m727\u001b[39m     filename = \u001b[43mfile_finder\u001b[49m\u001b[43m(\u001b[49m\u001b[43mfpath\u001b[49m\u001b[43m)\u001b[49m\n\u001b[32m    728\u001b[39m \u001b[38;5;28;01mexcept\u001b[39;00m \u001b[38;5;167;01mIndexError\u001b[39;00m \u001b[38;5;28;01mas\u001b[39;00m e:\n",
      "\u001b[36mFile \u001b[39m\u001b[32m/opt/homebrew/anaconda3/envs/xrt-blop/lib/python3.11/site-packages/IPython/utils/path.py:90\u001b[39m, in \u001b[36mget_py_filename\u001b[39m\u001b[34m(name)\u001b[39m\n\u001b[32m     89\u001b[39m         \u001b[38;5;28;01mreturn\u001b[39;00m py_name\n\u001b[32m---> \u001b[39m\u001b[32m90\u001b[39m \u001b[38;5;28;01mraise\u001b[39;00m \u001b[38;5;167;01mIOError\u001b[39;00m(\u001b[33m\"\u001b[39m\u001b[33mFile `\u001b[39m\u001b[38;5;132;01m%r\u001b[39;00m\u001b[33m` not found.\u001b[39m\u001b[33m\"\u001b[39m % name)\n",
      "\u001b[31mOSError\u001b[39m: File `'prepare_re_env.__file__'` not found.",
      "\nThe above exception was the direct cause of the following exception:\n",
      "\u001b[31mException\u001b[39m                                 Traceback (most recent call last)",
      "\u001b[36mCell\u001b[39m\u001b[36m \u001b[39m\u001b[32mIn[2]\u001b[39m\u001b[32m, line 2\u001b[39m\n\u001b[32m      1\u001b[39m \u001b[38;5;28;01mfrom\u001b[39;00m\u001b[38;5;250m \u001b[39m\u001b[34;01mblop\u001b[39;00m\u001b[34;01m.\u001b[39;00m\u001b[34;01mutils\u001b[39;00m\u001b[38;5;250m \u001b[39m\u001b[38;5;28;01mimport\u001b[39;00m prepare_re_env  \u001b[38;5;66;03m# noqa\u001b[39;00m\n\u001b[32m----> \u001b[39m\u001b[32m2\u001b[39m \u001b[43mget_ipython\u001b[49m\u001b[43m(\u001b[49m\u001b[43m)\u001b[49m\u001b[43m.\u001b[49m\u001b[43mrun_line_magic\u001b[49m\u001b[43m(\u001b[49m\u001b[33;43m'\u001b[39;49m\u001b[33;43mrun\u001b[39;49m\u001b[33;43m'\u001b[39;49m\u001b[43m,\u001b[49m\u001b[43m \u001b[49m\u001b[33;43m'\u001b[39;49m\u001b[33;43m-i prepare_re_env.__file__ --db-type=temp\u001b[39;49m\u001b[33;43m'\u001b[39;49m\u001b[43m)\u001b[49m\n\u001b[32m      3\u001b[39m bec.disable_plots()\n",
      "\u001b[36mFile \u001b[39m\u001b[32m/opt/homebrew/anaconda3/envs/xrt-blop/lib/python3.11/site-packages/IPython/core/interactiveshell.py:2478\u001b[39m, in \u001b[36mInteractiveShell.run_line_magic\u001b[39m\u001b[34m(self, magic_name, line, _stack_depth)\u001b[39m\n\u001b[32m   2476\u001b[39m     kwargs[\u001b[33m'\u001b[39m\u001b[33mlocal_ns\u001b[39m\u001b[33m'\u001b[39m] = \u001b[38;5;28mself\u001b[39m.get_local_scope(stack_depth)\n\u001b[32m   2477\u001b[39m \u001b[38;5;28;01mwith\u001b[39;00m \u001b[38;5;28mself\u001b[39m.builtin_trap:\n\u001b[32m-> \u001b[39m\u001b[32m2478\u001b[39m     result = \u001b[43mfn\u001b[49m\u001b[43m(\u001b[49m\u001b[43m*\u001b[49m\u001b[43margs\u001b[49m\u001b[43m,\u001b[49m\u001b[43m \u001b[49m\u001b[43m*\u001b[49m\u001b[43m*\u001b[49m\u001b[43mkwargs\u001b[49m\u001b[43m)\u001b[49m\n\u001b[32m   2480\u001b[39m \u001b[38;5;66;03m# The code below prevents the output from being displayed\u001b[39;00m\n\u001b[32m   2481\u001b[39m \u001b[38;5;66;03m# when using magics with decorator @output_can_be_silenced\u001b[39;00m\n\u001b[32m   2482\u001b[39m \u001b[38;5;66;03m# when the last Python token in the expression is a ';'.\u001b[39;00m\n\u001b[32m   2483\u001b[39m \u001b[38;5;28;01mif\u001b[39;00m \u001b[38;5;28mgetattr\u001b[39m(fn, magic.MAGIC_OUTPUT_CAN_BE_SILENCED, \u001b[38;5;28;01mFalse\u001b[39;00m):\n",
      "\u001b[36mFile \u001b[39m\u001b[32m/opt/homebrew/anaconda3/envs/xrt-blop/lib/python3.11/site-packages/IPython/core/magics/execution.py:738\u001b[39m, in \u001b[36mExecutionMagics.run\u001b[39m\u001b[34m(self, parameter_s, runner, file_finder)\u001b[39m\n\u001b[32m    736\u001b[39m     \u001b[38;5;28;01mif\u001b[39;00m os.name == \u001b[33m'\u001b[39m\u001b[33mnt\u001b[39m\u001b[33m'\u001b[39m \u001b[38;5;129;01mand\u001b[39;00m re.match(\u001b[33mr\u001b[39m\u001b[33m\"\u001b[39m\u001b[33m^\u001b[39m\u001b[33m'\u001b[39m\u001b[33m.*\u001b[39m\u001b[33m'\u001b[39m\u001b[33m$\u001b[39m\u001b[33m\"\u001b[39m,fpath):\n\u001b[32m    737\u001b[39m         warn(\u001b[33m'\u001b[39m\u001b[33mFor Windows, use double quotes to wrap a filename: \u001b[39m\u001b[38;5;132;01m%r\u001b[39;00m\u001b[33mun \u001b[39m\u001b[33m\"\u001b[39m\u001b[33mmypath\u001b[39m\u001b[38;5;130;01m\\\\\u001b[39;00m\u001b[33mmyfile.py\u001b[39m\u001b[33m\"\u001b[39m\u001b[33m'\u001b[39m)\n\u001b[32m--> \u001b[39m\u001b[32m738\u001b[39m     \u001b[38;5;28;01mraise\u001b[39;00m \u001b[38;5;167;01mException\u001b[39;00m(msg) \u001b[38;5;28;01mfrom\u001b[39;00m\u001b[38;5;250m \u001b[39m\u001b[34;01me\u001b[39;00m\n\u001b[32m    739\u001b[39m \u001b[38;5;28;01mexcept\u001b[39;00m \u001b[38;5;167;01mTypeError\u001b[39;00m:\n\u001b[32m    740\u001b[39m     \u001b[38;5;28;01mif\u001b[39;00m fpath \u001b[38;5;129;01min\u001b[39;00m sys.meta_path:\n",
      "\u001b[31mException\u001b[39m: File `'prepare_re_env.__file__'` not found."
     ]
    }
   ],
   "source": [
    "from blop.utils import prepare_re_env  # noqa\n",
    "%run -i $prepare_re_env.__file__ --db-type=temp\n",
    "bec.disable_plots()"
   ]
  },
  {
   "cell_type": "code",
   "execution_count": null,
   "id": "ed62c13b-6c76-4674-9f5a-9ae6a0414817",
   "metadata": {},
   "outputs": [],
   "source": [
    "import sys, os\n",
    "os.environ[\"EPICS_CA_ADDR_LIST\"] = \"127.0.0.1\"\n",
    "os.environ[\"EPICS_CA_AUTO_ADDR_LIST\"] = \"NO\"\n",
    "from matplotlib import pyplot as plt\n",
    "from xrt_beamline import Beamline\n",
    "\n",
    "from blop import DOF, Objective, Agent\n",
    "from blop.digestion import beam_stats_digestion\n",
    "import time\n",
    "sys.path.append(os.getcwd())"
   ]
  },
  {
   "cell_type": "code",
   "execution_count": null,
   "id": "617d7a23-d2c5-4ba8-8016-83b807a0e10f",
   "metadata": {},
   "outputs": [],
   "source": [
    "plt.ion()\n",
    "\n",
    "h_opt = 0\n",
    "dh = 5\n",
    "\n",
    "R1, dR1 = 40000, 10000\n",
    "R2, dR2 = 20000, 10000\n",
    "\n",
    "bec.disable_plots()"
   ]
  },
  {
   "cell_type": "code",
   "execution_count": null,
   "id": "ab197a2a-9f7e-4b5d-9f5b-bf1c41c9d69a",
   "metadata": {},
   "outputs": [],
   "source": [
    "beamline = Beamline(name=\"bl\")\n",
    "time.sleep(1)\n",
    "dofs = [\n",
    "    DOF(description=\"KBV R\",\n",
    "        device=beamline.kbv_dsv,\n",
    "        search_domain=(R1-dR1, R1+dR1)),\n",
    "    DOF(description=\"KBH R\",\n",
    "        device=beamline.kbh_dsh,\n",
    "        search_domain=(R2-dR2, R2+dR2)),\n",
    "\n",
    "]"
   ]
  },
  {
   "cell_type": "code",
   "execution_count": null,
   "id": "844ba094-a016-4698-b02b-7b1d5b0ece1d",
   "metadata": {},
   "outputs": [],
   "source": [
    "objectives = [\n",
    "    Objective(name=\"bl_det_sum\", \n",
    "              target=\"max\",\n",
    "              transform=\"log\",\n",
    "              trust_domain=(20, 1e12)),\n",
    "\n",
    "    Objective(name=\"bl_det_wid_x\",\n",
    "              target=\"min\",\n",
    "              transform=\"log\",\n",
    "              # trust_domain=(0, 1e12),\n",
    "              latent_groups=[(\"bl_kbh_dsh\", \"bl_kbv_dsv\")]),\n",
    "    Objective(name=\"bl_det_wid_y\",\n",
    "              target=\"min\",\n",
    "              transform=\"log\",\n",
    "              # trust_domain=(0, 1e12),\n",
    "              latent_groups=[(\"bl_kbh_dsh\", \"bl_kbv_dsv\")]),\n",
    "]"
   ]
  },
  {
   "cell_type": "code",
   "execution_count": null,
   "id": "1bbad29a-ba37-4efe-9a2e-90da2bfe0631",
   "metadata": {},
   "outputs": [],
   "source": [
    "agent = Agent(\n",
    "    dofs=dofs,\n",
    "    objectives=objectives,\n",
    "    detectors=[beamline.det],\n",
    "    digestion=beam_stats_digestion,\n",
    "    digestion_kwargs={\"image_key\": \"bl_det_image\"},\n",
    "    verbose=True,\n",
    "    db=db,\n",
    "    tolerate_acquisition_errors=False,\n",
    "    enforce_all_objectives_valid=True,\n",
    "    train_every=3,\n",
    ")"
   ]
  },
  {
   "cell_type": "code",
   "execution_count": null,
   "id": "49a30257-ce07-41b7-bcbb-f77603b78249",
   "metadata": {},
   "outputs": [],
   "source": [
    "RE(agent.learn(\"qr\", n=16))\n",
    "RE(agent.learn(\"qei\", n=16, iterations=4))\n"
   ]
  },
  {
   "cell_type": "code",
   "execution_count": null,
   "id": "2d38aed8-30da-450f-972c-eb0298dcfacf",
   "metadata": {},
   "outputs": [],
   "source": [
    "agent.plot_objectives(axes=(0, 1))"
   ]
  }
 ],
 "metadata": {
  "kernelspec": {
   "display_name": "xrt-blop",
   "language": "python",
   "name": "python3"
  },
  "language_info": {
   "codemirror_mode": {
    "name": "ipython",
    "version": 3
   },
   "file_extension": ".py",
   "mimetype": "text/x-python",
   "name": "python",
   "nbconvert_exporter": "python",
   "pygments_lexer": "ipython3",
   "version": "3.11.0"
  }
 },
 "nbformat": 4,
 "nbformat_minor": 5
}
